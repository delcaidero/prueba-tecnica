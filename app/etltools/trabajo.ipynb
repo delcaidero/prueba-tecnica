{
 "cells": [
  {
   "cell_type": "code",
   "execution_count": 1,
   "id": "654584e3-cada-435c-a9fa-800ed42c989e",
   "metadata": {
    "tags": []
   },
   "outputs": [],
   "source": [
    "import pandas as pd\n",
    "import etltools.etltools as etl"
   ]
  },
  {
   "cell_type": "code",
   "execution_count": 2,
   "id": "ac49103e-7b03-44ea-a37b-63985a7fe7d3",
   "metadata": {
    "tags": []
   },
   "outputs": [
    {
     "name": "stdout",
     "output_type": "stream",
     "text": [
      "        date state  positive  deathConfirmed\n",
      "0 2021-03-07    AK   56886.0             NaN\n"
     ]
    }
   ],
   "source": [
    "# modulo propio para esta ETL\n",
    "# utilizar para cargar datos en BBDD\n",
    "etl.etl()"
   ]
  },
  {
   "cell_type": "code",
   "execution_count": 40,
   "id": "fdba354d-9a71-46e3-8cd6-03b9a77fd5f0",
   "metadata": {
    "tags": []
   },
   "outputs": [
    {
     "data": {
      "text/html": [
       "<div>\n",
       "<style scoped>\n",
       "    .dataframe tbody tr th:only-of-type {\n",
       "        vertical-align: middle;\n",
       "    }\n",
       "\n",
       "    .dataframe tbody tr th {\n",
       "        vertical-align: top;\n",
       "    }\n",
       "\n",
       "    .dataframe thead th {\n",
       "        text-align: right;\n",
       "    }\n",
       "</style>\n",
       "<table border=\"1\" class=\"dataframe\">\n",
       "  <thead>\n",
       "    <tr style=\"text-align: right;\">\n",
       "      <th></th>\n",
       "      <th>index</th>\n",
       "      <th>date</th>\n",
       "      <th>state</th>\n",
       "      <th>positive</th>\n",
       "      <th>deathConfirmed</th>\n",
       "    </tr>\n",
       "  </thead>\n",
       "  <tbody>\n",
       "    <tr>\n",
       "      <th>0</th>\n",
       "      <td>26</td>\n",
       "      <td>2021-03-07</td>\n",
       "      <td>MO</td>\n",
       "      <td>480643.0</td>\n",
       "      <td>NaN</td>\n",
       "    </tr>\n",
       "    <tr>\n",
       "      <th>1</th>\n",
       "      <td>29</td>\n",
       "      <td>2021-03-07</td>\n",
       "      <td>MT</td>\n",
       "      <td>100914.0</td>\n",
       "      <td>NaN</td>\n",
       "    </tr>\n",
       "    <tr>\n",
       "      <th>2</th>\n",
       "      <td>30</td>\n",
       "      <td>2021-03-07</td>\n",
       "      <td>NC</td>\n",
       "      <td>872176.0</td>\n",
       "      <td>10169.0</td>\n",
       "    </tr>\n",
       "    <tr>\n",
       "      <th>3</th>\n",
       "      <td>32</td>\n",
       "      <td>2021-03-07</td>\n",
       "      <td>NE</td>\n",
       "      <td>203026.0</td>\n",
       "      <td>NaN</td>\n",
       "    </tr>\n",
       "    <tr>\n",
       "      <th>4</th>\n",
       "      <td>33</td>\n",
       "      <td>2021-03-07</td>\n",
       "      <td>NH</td>\n",
       "      <td>76861.0</td>\n",
       "      <td>NaN</td>\n",
       "    </tr>\n",
       "    <tr>\n",
       "      <th>...</th>\n",
       "      <td>...</td>\n",
       "      <td>...</td>\n",
       "      <td>...</td>\n",
       "      <td>...</td>\n",
       "      <td>...</td>\n",
       "    </tr>\n",
       "    <tr>\n",
       "      <th>107269</th>\n",
       "      <td>20761</td>\n",
       "      <td>2020-01-26</td>\n",
       "      <td>MA</td>\n",
       "      <td>NaN</td>\n",
       "      <td>NaN</td>\n",
       "    </tr>\n",
       "    <tr>\n",
       "      <th>107270</th>\n",
       "      <td>20763</td>\n",
       "      <td>2020-01-25</td>\n",
       "      <td>MA</td>\n",
       "      <td>NaN</td>\n",
       "      <td>NaN</td>\n",
       "    </tr>\n",
       "    <tr>\n",
       "      <th>107271</th>\n",
       "      <td>20765</td>\n",
       "      <td>2020-01-24</td>\n",
       "      <td>MA</td>\n",
       "      <td>NaN</td>\n",
       "      <td>NaN</td>\n",
       "    </tr>\n",
       "    <tr>\n",
       "      <th>107272</th>\n",
       "      <td>20767</td>\n",
       "      <td>2020-01-23</td>\n",
       "      <td>MA</td>\n",
       "      <td>NaN</td>\n",
       "      <td>NaN</td>\n",
       "    </tr>\n",
       "    <tr>\n",
       "      <th>107273</th>\n",
       "      <td>20769</td>\n",
       "      <td>2020-01-22</td>\n",
       "      <td>MA</td>\n",
       "      <td>NaN</td>\n",
       "      <td>NaN</td>\n",
       "    </tr>\n",
       "  </tbody>\n",
       "</table>\n",
       "<p>107274 rows × 5 columns</p>\n",
       "</div>"
      ],
      "text/plain": [
       "        index       date state  positive  deathConfirmed\n",
       "0          26 2021-03-07    MO  480643.0             NaN\n",
       "1          29 2021-03-07    MT  100914.0             NaN\n",
       "2          30 2021-03-07    NC  872176.0         10169.0\n",
       "3          32 2021-03-07    NE  203026.0             NaN\n",
       "4          33 2021-03-07    NH   76861.0             NaN\n",
       "...       ...        ...   ...       ...             ...\n",
       "107269  20761 2020-01-26    MA       NaN             NaN\n",
       "107270  20763 2020-01-25    MA       NaN             NaN\n",
       "107271  20765 2020-01-24    MA       NaN             NaN\n",
       "107272  20767 2020-01-23    MA       NaN             NaN\n",
       "107273  20769 2020-01-22    MA       NaN             NaN\n",
       "\n",
       "[107274 rows x 5 columns]"
      ]
     },
     "execution_count": 40,
     "metadata": {},
     "output_type": "execute_result"
    }
   ],
   "source": [
    "# creamos el df desde la tabla de BBDD\n",
    "engine = etl.connect_db()\n",
    "conn = engine.connect()\n",
    "df = pd.read_sql_table('clean_historic_values_all_states', conn, schema='public')\n",
    "engine.dispose()\n",
    "df"
   ]
  },
  {
   "cell_type": "code",
   "execution_count": 18,
   "id": "ee94bafe-f729-4d12-80d0-5ea29d9f251b",
   "metadata": {
    "tags": []
   },
   "outputs": [
    {
     "data": {
      "text/html": [
       "<div>\n",
       "<style scoped>\n",
       "    .dataframe tbody tr th:only-of-type {\n",
       "        vertical-align: middle;\n",
       "    }\n",
       "\n",
       "    .dataframe tbody tr th {\n",
       "        vertical-align: top;\n",
       "    }\n",
       "\n",
       "    .dataframe thead th {\n",
       "        text-align: right;\n",
       "    }\n",
       "</style>\n",
       "<table border=\"1\" class=\"dataframe\">\n",
       "  <thead>\n",
       "    <tr style=\"text-align: right;\">\n",
       "      <th></th>\n",
       "      <th>index</th>\n",
       "      <th>date</th>\n",
       "      <th>state</th>\n",
       "      <th>positive</th>\n",
       "      <th>deathConfirmed</th>\n",
       "    </tr>\n",
       "  </thead>\n",
       "  <tbody>\n",
       "    <tr>\n",
       "      <th>0</th>\n",
       "      <td>26</td>\n",
       "      <td>2021-03-07</td>\n",
       "      <td>MO</td>\n",
       "      <td>480643.0</td>\n",
       "      <td>NaN</td>\n",
       "    </tr>\n",
       "    <tr>\n",
       "      <th>1</th>\n",
       "      <td>29</td>\n",
       "      <td>2021-03-07</td>\n",
       "      <td>MT</td>\n",
       "      <td>100914.0</td>\n",
       "      <td>NaN</td>\n",
       "    </tr>\n",
       "    <tr>\n",
       "      <th>2</th>\n",
       "      <td>30</td>\n",
       "      <td>2021-03-07</td>\n",
       "      <td>NC</td>\n",
       "      <td>872176.0</td>\n",
       "      <td>10169.0</td>\n",
       "    </tr>\n",
       "    <tr>\n",
       "      <th>3</th>\n",
       "      <td>32</td>\n",
       "      <td>2021-03-07</td>\n",
       "      <td>NE</td>\n",
       "      <td>203026.0</td>\n",
       "      <td>NaN</td>\n",
       "    </tr>\n",
       "    <tr>\n",
       "      <th>4</th>\n",
       "      <td>33</td>\n",
       "      <td>2021-03-07</td>\n",
       "      <td>NH</td>\n",
       "      <td>76861.0</td>\n",
       "      <td>NaN</td>\n",
       "    </tr>\n",
       "    <tr>\n",
       "      <th>...</th>\n",
       "      <td>...</td>\n",
       "      <td>...</td>\n",
       "      <td>...</td>\n",
       "      <td>...</td>\n",
       "      <td>...</td>\n",
       "    </tr>\n",
       "    <tr>\n",
       "      <th>107269</th>\n",
       "      <td>20761</td>\n",
       "      <td>2020-01-26</td>\n",
       "      <td>MA</td>\n",
       "      <td>NaN</td>\n",
       "      <td>NaN</td>\n",
       "    </tr>\n",
       "    <tr>\n",
       "      <th>107270</th>\n",
       "      <td>20763</td>\n",
       "      <td>2020-01-25</td>\n",
       "      <td>MA</td>\n",
       "      <td>NaN</td>\n",
       "      <td>NaN</td>\n",
       "    </tr>\n",
       "    <tr>\n",
       "      <th>107271</th>\n",
       "      <td>20765</td>\n",
       "      <td>2020-01-24</td>\n",
       "      <td>MA</td>\n",
       "      <td>NaN</td>\n",
       "      <td>NaN</td>\n",
       "    </tr>\n",
       "    <tr>\n",
       "      <th>107272</th>\n",
       "      <td>20767</td>\n",
       "      <td>2020-01-23</td>\n",
       "      <td>MA</td>\n",
       "      <td>NaN</td>\n",
       "      <td>NaN</td>\n",
       "    </tr>\n",
       "    <tr>\n",
       "      <th>107273</th>\n",
       "      <td>20769</td>\n",
       "      <td>2020-01-22</td>\n",
       "      <td>MA</td>\n",
       "      <td>NaN</td>\n",
       "      <td>NaN</td>\n",
       "    </tr>\n",
       "  </tbody>\n",
       "</table>\n",
       "<p>107274 rows × 5 columns</p>\n",
       "</div>"
      ],
      "text/plain": [
       "        index       date state  positive  deathConfirmed\n",
       "0          26 2021-03-07    MO  480643.0             NaN\n",
       "1          29 2021-03-07    MT  100914.0             NaN\n",
       "2          30 2021-03-07    NC  872176.0         10169.0\n",
       "3          32 2021-03-07    NE  203026.0             NaN\n",
       "4          33 2021-03-07    NH   76861.0             NaN\n",
       "...       ...        ...   ...       ...             ...\n",
       "107269  20761 2020-01-26    MA       NaN             NaN\n",
       "107270  20763 2020-01-25    MA       NaN             NaN\n",
       "107271  20765 2020-01-24    MA       NaN             NaN\n",
       "107272  20767 2020-01-23    MA       NaN             NaN\n",
       "107273  20769 2020-01-22    MA       NaN             NaN\n",
       "\n",
       "[107274 rows x 5 columns]"
      ]
     },
     "execution_count": 18,
     "metadata": {},
     "output_type": "execute_result"
    }
   ],
   "source": []
  },
  {
   "cell_type": "code",
   "execution_count": 33,
   "id": "8a1de8da-d37a-4199-a765-6aece005aaad",
   "metadata": {
    "tags": []
   },
   "outputs": [
    {
     "name": "stdout",
     "output_type": "stream",
     "text": [
      "Processing ./master.zip\n",
      "  Preparing metadata (setup.py) ... \u001b[?25ldone\n",
      "\u001b[33mWARNING: Retrying (Retry(total=4, connect=None, read=None, redirect=None, status=None)) after connection broken by 'NewConnectionError('<pip._vendor.urllib3.connection.HTTPSConnection object at 0x7f2c4b97c730>: Failed to establish a new connection: [Errno -3] Temporary failure in name resolution')': /simple/scipy/\u001b[0m\u001b[33m\n",
      "\u001b[0m\u001b[33mWARNING: Retrying (Retry(total=3, connect=None, read=None, redirect=None, status=None)) after connection broken by 'NewConnectionError('<pip._vendor.urllib3.connection.HTTPSConnection object at 0x7f2c4b97c3a0>: Failed to establish a new connection: [Errno -3] Temporary failure in name resolution')': /simple/scipy/\u001b[0m\u001b[33m\n",
      "\u001b[0m\u001b[33mWARNING: Retrying (Retry(total=2, connect=None, read=None, redirect=None, status=None)) after connection broken by 'NewConnectionError('<pip._vendor.urllib3.connection.HTTPSConnection object at 0x7f2c4b97cac0>: Failed to establish a new connection: [Errno -3] Temporary failure in name resolution')': /simple/scipy/\u001b[0m\u001b[33m\n",
      "\u001b[0m\u001b[33mWARNING: Retrying (Retry(total=1, connect=None, read=None, redirect=None, status=None)) after connection broken by 'NewConnectionError('<pip._vendor.urllib3.connection.HTTPSConnection object at 0x7f2c4b97cca0>: Failed to establish a new connection: [Errno -3] Temporary failure in name resolution')': /simple/scipy/\u001b[0m\u001b[33m\n",
      "\u001b[0m\u001b[33mWARNING: Retrying (Retry(total=0, connect=None, read=None, redirect=None, status=None)) after connection broken by 'NewConnectionError('<pip._vendor.urllib3.connection.HTTPSConnection object at 0x7f2c4b97ce80>: Failed to establish a new connection: [Errno -3] Temporary failure in name resolution')': /simple/scipy/\u001b[0m\u001b[33m\n",
      "\u001b[0m\u001b[31mERROR: Could not find a version that satisfies the requirement scipy<1.10,>=1.4.1 (from ydata-profiling) (from versions: none)\u001b[0m\u001b[31m\n",
      "\u001b[0m\u001b[31mERROR: No matching distribution found for scipy<1.10,>=1.4.1\u001b[0m\u001b[31m\n",
      "\u001b[0m\u001b[?25h"
     ]
    }
   ],
   "source": [
    "#!pip install pandas-profiling\n",
    "#!pip install ydata-profiling\n",
    "!pip install master.zip"
   ]
  },
  {
   "cell_type": "code",
   "execution_count": 39,
   "id": "803c22d5-6ba5-4e17-a4c8-5146b5436d59",
   "metadata": {
    "tags": []
   },
   "outputs": [
    {
     "name": "stdout",
     "output_type": "stream",
     "text": [
      "Retrieving notices: ...working... ERROR conda.notices.fetch:get_channel_notice_response(63): Request error <HTTPSConnectionPool(host='conda.anaconda.org', port=443): Max retries exceeded with url: /conda-forge/notices.json (Caused by NewConnectionError('<urllib3.connection.HTTPSConnection object at 0x7fe34ef24040>: Failed to establish a new connection: [Errno -3] Temporary failure in name resolution'))> for channel: conda-forge url: https://conda.anaconda.org/conda-forge/notices.json\n",
      "done\n",
      "Collecting package metadata (current_repodata.json): failed\n",
      "\n",
      "CondaHTTPError: HTTP 000 CONNECTION FAILED for url <https://conda.anaconda.org/conda-forge/linux-64/current_repodata.json>\n",
      "Elapsed: -\n",
      "\n",
      "An HTTP error occurred when trying to retrieve this URL.\n",
      "HTTP errors are often intermittent, and a simple retry will get you on your way.\n",
      "'https//conda.anaconda.org/conda-forge/linux-64'\n",
      "\n",
      "\n"
     ]
    }
   ],
   "source": [
    "!conda install plotly"
   ]
  },
  {
   "cell_type": "code",
   "execution_count": 36,
   "id": "7057f61a-ad76-4efc-b8b7-636da5548fbc",
   "metadata": {
    "tags": []
   },
   "outputs": [
    {
     "ename": "SyntaxError",
     "evalue": "invalid syntax (2265326421.py, line 1)",
     "output_type": "error",
     "traceback": [
      "\u001b[0;36m  Cell \u001b[0;32mIn[36], line 1\u001b[0;36m\u001b[0m\n\u001b[0;31m    from ydata-profiling import ProfileReport\u001b[0m\n\u001b[0m              ^\u001b[0m\n\u001b[0;31mSyntaxError\u001b[0m\u001b[0;31m:\u001b[0m invalid syntax\n"
     ]
    }
   ],
   "source": [
    "import plotly.express as px"
   ]
  },
  {
   "cell_type": "code",
   "execution_count": 32,
   "id": "bd43fbfa-cad1-403a-9eec-5f06e2057a7b",
   "metadata": {
    "tags": []
   },
   "outputs": [
    {
     "name": "stdout",
     "output_type": "stream",
     "text": [
      "--2023-02-19 02:34:00--  https://github.com/ydataai/ydata-profiling/archive/refs/heads/master.zip\n",
      "Resolving github.com (github.com)... failed: Temporary failure in name resolution.\n",
      "wget: unable to resolve host address ‘github.com’\n"
     ]
    }
   ],
   "source": [
    "!wget https://github.com/ydataai/ydata-profiling/archive/refs/heads/master.zip"
   ]
  },
  {
   "cell_type": "code",
   "execution_count": 41,
   "id": "1538d34a-095a-46dc-8575-0d6e46e8a5ad",
   "metadata": {
    "tags": []
   },
   "outputs": [
    {
     "name": "stderr",
     "output_type": "stream",
     "text": [
      "76795.57s - pydevd: Sending message related to process being replaced timed-out after 5 seconds\n"
     ]
    },
    {
     "name": "stdout",
     "output_type": "stream",
     "text": [
      "/bin/bash: line 1: ping: command not found\n"
     ]
    }
   ],
   "source": [
    "!ping 8.8.8.8"
   ]
  },
  {
   "cell_type": "code",
   "execution_count": null,
   "id": "3a25b6b4-63c9-43cf-8540-319a5549057b",
   "metadata": {},
   "outputs": [],
   "source": [
    "\n",
    "\n",
    "    original_df = extract(DATASET_URL)\n",
    "    original_data_table_name = \"original_historic_values\"\n",
    "\n",
    "    clean_df = transform(original_df)\n",
    "    clean_table_name = \"clean_historic_values_all_states\"\n",
    "    print(clean_df.head(1).to_string())\n",
    "\n",
    "    load_data_to_db(original_df, original_data_table_name, db_engine)\n",
    "    load_data_to_db(clean_df, clean_table_name, db_engine)\n",
    "\n"
   ]
  },
  {
   "cell_type": "code",
   "execution_count": null,
   "id": "e58d2d91-a620-470b-853d-781953369ba6",
   "metadata": {},
   "outputs": [],
   "source": [
    "# un truco para optimizar el flujo\n",
    "\n",
    "def read_sql_tmpfile(query, db_engine):\n",
    "    with tempfile.TemporaryFile() as tmpfile:\n",
    "        copy_sql = \"COPY ({query}) TO STDOUT WITH CSV {head}\".format(\n",
    "           query=query, head=\"HEADER\"\n",
    "        )\n",
    "        conn = db_engine.raw_connection()\n",
    "        cur = conn.cursor()\n",
    "        cur.copy_expert(copy_sql, tmpfile)\n",
    "        tmpfile.seek(0)\n",
    "        df = pandas.read_csv(tmpfile)\n",
    "        return df"
   ]
  }
 ],
 "metadata": {
  "kernelspec": {
   "display_name": "Python 3 (ipykernel)",
   "language": "python",
   "name": "python3"
  },
  "language_info": {
   "codemirror_mode": {
    "name": "ipython",
    "version": 3
   },
   "file_extension": ".py",
   "mimetype": "text/x-python",
   "name": "python",
   "nbconvert_exporter": "python",
   "pygments_lexer": "ipython3",
   "version": "3.10.9"
  }
 },
 "nbformat": 4,
 "nbformat_minor": 5
}
