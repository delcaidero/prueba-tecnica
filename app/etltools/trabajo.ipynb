{
 "cells": [
  {
   "cell_type": "code",
   "execution_count": 1,
   "id": "654584e3-cada-435c-a9fa-800ed42c989e",
   "metadata": {
    "tags": []
   },
   "outputs": [],
   "source": [
    "import pandas as pd\n",
    "import etltools.etltools as etl"
   ]
  },
  {
   "cell_type": "code",
   "execution_count": 2,
   "id": "2e213b6b-e144-4995-8ecd-a2e94c23ca3c",
   "metadata": {
    "tags": []
   },
   "outputs": [],
   "source": [
    "#!pip install ./dist/etltools-0.1.0-py3-none-any.whl"
   ]
  },
  {
   "cell_type": "code",
   "execution_count": 3,
   "id": "c80f25fd-e6c0-4a0e-a95a-72cb5a58b269",
   "metadata": {
    "tags": []
   },
   "outputs": [],
   "source": [
    "ejecutor = etl.etljob('docker','docker','postgres','5432')"
   ]
  },
  {
   "cell_type": "code",
   "execution_count": 4,
   "id": "2f37276b-1b29-409c-9a77-c810d6ffc3db",
   "metadata": {
    "tags": []
   },
   "outputs": [
    {
     "name": "stdout",
     "output_type": "stream",
     "text": [
      "extract...\n",
      "https://api.covidtracking.com/v1/states/daily.csv\n",
      "        date state  positive  deathConfirmed\n",
      "0 2021-03-07    AK   56886.0             NaN\n"
     ]
    }
   ],
   "source": [
    "ejecutor.etl()"
   ]
  },
  {
   "cell_type": "code",
   "execution_count": 5,
   "id": "baa17078-d611-4cd5-8de3-29d79661b439",
   "metadata": {
    "tags": []
   },
   "outputs": [
    {
     "name": "stdout",
     "output_type": "stream",
     "text": [
      "2023-02-20 23:27:00,489 - root - DEBUG - >>> Running 'connect_db' \n",
      "2023-02-20 23:27:00,543 - root - DEBUG - >>> Executed 'connect_db' \n",
      "2023-02-20 23:27:00,543 - root - DEBUG - >>> Running 'extract' \n",
      "2023-02-20 23:27:03,476 - root - DEBUG - >>> Executed 'extract' \n",
      "2023-02-20 23:27:03,476 - root - DEBUG - >>> Running 'transform' \n",
      "2023-02-20 23:27:03,481 - root - DEBUG - >>> Executed 'transform' \n",
      "2023-02-20 23:27:03,482 - root - DEBUG - >>> Running 'load_data_to_db' \n",
      "2023-02-20 23:27:05,878 - root - DEBUG - >>> Executed 'load_data_to_db' \n",
      "2023-02-20 23:27:05,878 - root - DEBUG - >>> Running 'load_data_to_db' \n",
      "2023-02-20 23:27:06,033 - root - DEBUG - >>> Executed 'load_data_to_db' \n"
     ]
    }
   ],
   "source": [
    "!cat app.log"
   ]
  },
  {
   "cell_type": "code",
   "execution_count": null,
   "id": "e58d2d91-a620-470b-853d-781953369ba6",
   "metadata": {},
   "outputs": [],
   "source": [
    "# un truco para optimizar el flujo\n",
    "\n",
    "def read_sql_tmpfile(query, db_engine):\n",
    "    with tempfile.TemporaryFile() as tmpfile:\n",
    "        copy_sql = \"COPY ({query}) TO STDOUT WITH CSV {head}\".format(\n",
    "           query=query, head=\"HEADER\"\n",
    "        )\n",
    "        conn = db_engine.raw_connection()\n",
    "        cur = conn.cursor()\n",
    "        cur.copy_expert(copy_sql, tmpfile)\n",
    "        tmpfile.seek(0)\n",
    "        df = pandas.read_csv(tmpfile)\n",
    "        return df"
   ]
  }
 ],
 "metadata": {
  "kernelspec": {
   "display_name": "Python 3 (ipykernel)",
   "language": "python",
   "name": "python3"
  },
  "language_info": {
   "codemirror_mode": {
    "name": "ipython",
    "version": 3
   },
   "file_extension": ".py",
   "mimetype": "text/x-python",
   "name": "python",
   "nbconvert_exporter": "python",
   "pygments_lexer": "ipython3",
   "version": "3.10.9"
  }
 },
 "nbformat": 4,
 "nbformat_minor": 5
}
